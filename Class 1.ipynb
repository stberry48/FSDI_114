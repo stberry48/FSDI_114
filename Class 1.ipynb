{
 "cells": [
  {
   "cell_type": "code",
   "execution_count": 1,
   "id": "c2f285db-6f00-47b5-b494-e2fc960bccce",
   "metadata": {},
   "outputs": [
    {
     "ename": "SyntaxError",
     "evalue": "invalid syntax (807923641.py, line 1)",
     "output_type": "error",
     "traceback": [
      "\u001b[0;36m  Cell \u001b[0;32mIn[1], line 1\u001b[0;36m\u001b[0m\n\u001b[0;31m    for char in \"hello, world\";\u001b[0m\n\u001b[0m                              ^\u001b[0m\n\u001b[0;31mSyntaxError\u001b[0m\u001b[0;31m:\u001b[0m invalid syntax\n"
     ]
    }
   ],
   "source": [
    "for char in \"hello, world\";\n",
    "    print(char)\n",
    "\n",
    "# Press shift+enter"
   ]
  },
  {
   "cell_type": "code",
   "execution_count": 2,
   "id": "e78dccc0-d8eb-46ce-a095-9f3d294f14fa",
   "metadata": {},
   "outputs": [
    {
     "name": "stdout",
     "output_type": "stream",
     "text": [
      "h\n",
      "e\n",
      "l\n",
      "l\n",
      "o\n",
      ",\n",
      " \n",
      "w\n",
      "o\n",
      "r\n",
      "l\n",
      "d\n"
     ]
    }
   ],
   "source": [
    "for char in \"hello, world\":\n",
    "\n",
    "    print(char)"
   ]
  },
  {
   "cell_type": "markdown",
   "id": "2410d0a7-0ced-4ae4-b522-8c3b27497596",
   "metadata": {},
   "source": [
    "# Problem 1\n",
    "\n",
    "## Anagram Check\n",
    "\n",
    "Given two strings as parameters, define a function (anagram_check) that returns True if these are anagrams of each other, False otherwise.\n",
    "\n",
    "### Criteria\n",
    "\n",
    "Two strings are anagrams of each other if *all* the criteria below are met:\n",
    "1. They must be of equal length (in number of letters).\n",
    "2. They must use the same letters the same amount of times.\n",
    "\n",
    "## Examples\n",
    "```\n",
    "heart and earth\n",
    "cars and scars\n",
    "star and rats\n",
    "```"
   ]
  },
  {
   "cell_type": "code",
   "execution_count": 3,
   "id": "b787e8b9-0fcd-437e-9af0-80d330b48d73",
   "metadata": {},
   "outputs": [],
   "source": [
    "# define my function \"anagram_check\" which receives string1 of type string and string2 of type string:\n",
    "#    string1 = string1 without spaces\n",
    "#    string2 = string2 without spaces\n",
    "#    string1 = string1 in lower case\n",
    "#    string2 = string2 in lower case\n",
    "#    if the length of string1 and the length of string2 are not equal:\n",
    "#        return False\n",
    "#    dicti_a = new Dictionary\n",
    "#    dicti_b = new Dictionary\n",
    "#    for number in the range between 0 and the length of string1:\n",
    "#          if the character at position \"number\" in string1 is in dicti_a:\n",
    "#              and 1 to the value associated with that character\n",
    "#          otherwise:\n",
    "#              create a new key in dicti_b for the character with its value set to 1\n",
    "#          if the character at position \"number\" in string2 is in dicti_b:\n",
    "#              add 1 to the value associated with that character\n",
    "#          otherwise:\n",
    "#              create a new key in dicti_b for the character with its value set to 1\n",
    "#    if dicti_a is equal to dicti_b:\n",
    "#        return True\n",
    "#    otherwise:\n",
    "#        return False"
   ]
  },
  {
   "cell_type": "code",
   "execution_count": 4,
   "id": "75f473a8-188a-463a-a94e-7ac071123d3b",
   "metadata": {},
   "outputs": [],
   "source": [
    "def anagram_check(string1: str, string2: str) -> bool:\n",
    "    string1 = string1.replace(\" \", \"\").lower()\n",
    "    string2 = string2.replace(\" \", \"\").lower()"
   ]
  },
  {
   "cell_type": "code",
   "execution_count": null,
   "id": "d8ffa8be-2d74-46b6-b4d2-b44a3f015079",
   "metadata": {},
   "outputs": [],
   "source": [
    "# This is to remove spaces and convert to lowercase\n",
    "def anagram_check(string1, string2):\n",
    "    string1 = string1.replace(\" \", \"\").lower()\n",
    "    string2 = string2.replace(\" \", \"\").lower()\n",
    "    \n",
    "# If lengths are not equal, they cannot be anagrams\n",
    "if len(string1) != len(string2):\n",
    "        return False\n",
    "    \n",
    "# This is to create dictionaries to count character occurrences\n",
    "    dicti_a = {}\n",
    "    dicti_b = {}    \n",
    "\n",
    "# Count characters in both strings\n",
    "    for i\n"
   ]
  }
 ],
 "metadata": {
  "kernelspec": {
   "display_name": "Python 3 (ipykernel)",
   "language": "python",
   "name": "python3"
  },
  "language_info": {
   "codemirror_mode": {
    "name": "ipython",
    "version": 3
   },
   "file_extension": ".py",
   "mimetype": "text/x-python",
   "name": "python",
   "nbconvert_exporter": "python",
   "pygments_lexer": "ipython3",
   "version": "3.10.12"
  }
 },
 "nbformat": 4,
 "nbformat_minor": 5
}
